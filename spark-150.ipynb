{
 "cells": [
  {
   "cell_type": "code",
   "execution_count": 1,
   "id": "3f89e029",
   "metadata": {},
   "outputs": [],
   "source": [
    "from pyspark.sql import SparkSession\n",
    "spark=SparkSession.builder.master('local').appName('zero_analyst').getOrCreate()\n",
    "spark\n",
    "\n",
    "# MySQL connection properties\n",
    "mysql_host = \"localhost\"\n",
    "mysql_port = 3306\n",
    "mysql_database = \"zero_analyst\"\n",
    "mysql_username = \"root\"\n",
    "mysql_password = \"mypassword\"\n",
    "table_name='retail_sales'\n",
    "\n",
    "# JDBC URL\n",
    "jdbc_url = f\"jdbc:mysql://{mysql_host}:{mysql_port}/{mysql_database}\"\n",
    "connection_properties = {\n",
    "    \"user\": mysql_username,\n",
    "    \"password\": mysql_password,\n",
    "    \"driver\": \"com.mysql.cj.jdbc.Driver\"\n",
    "}\n",
    "\n"
   ]
  },
  {
   "cell_type": "code",
   "execution_count": 2,
   "id": "cc3b77e9",
   "metadata": {},
   "outputs": [
    {
     "name": "stdout",
     "output_type": "stream",
     "text": [
      "+-----------+---------------+-----------+--------+\n",
      "|employee_id|           name| department|  salary|\n",
      "+-----------+---------------+-----------+--------+\n",
      "|          1|       John Doe|Engineering|63000.00|\n",
      "|          2|     Jane Smith|Engineering|55000.00|\n",
      "|          3|Michael Johnson|Engineering|64000.00|\n",
      "|          4|    Emily Davis|  Marketing|58000.00|\n",
      "|          5|    Chris Brown|  Marketing|56000.00|\n",
      "|          6|    Emma Wilson|  Marketing|59000.00|\n",
      "|          7|       Alex Lee|      Sales|58000.00|\n",
      "|          8|    Sarah Adams|      Sales|58000.00|\n",
      "|          9|     Ryan Clark|      Sales|61000.00|\n",
      "|         11|           zara|         it|63000.00|\n",
      "+-----------+---------------+-----------+--------+\n",
      "\n",
      "+-----------+--------+-----------+--------+\n",
      "|employee_id|    name| department|  salary|\n",
      "+-----------+--------+-----------+--------+\n",
      "|          1|John Doe|Engineering|63000.00|\n",
      "|         11|    zara|         it|63000.00|\n",
      "+-----------+--------+-----------+--------+\n",
      "\n"
     ]
    }
   ],
   "source": [
    "# 01 Write the SQL query to find the second highest salary   SELECT * FROM employees01 \n",
    "employees01 = spark.read.format(\"jdbc\").option(\"url\", jdbc_url).option(\"driver\", \"com.mysql.cj.jdbc.Driver\") \\\n",
    "    .option(\"dbtable\", 'employees01').option(\"user\", mysql_username).option(\"password\", mysql_password).load()\n",
    "\n",
    "employees01.show()\n",
    "\n",
    "from pyspark.sql.window import Window\n",
    "from pyspark.sql.functions import col,dense_rank\n",
    "\n",
    "department_window=Window.orderBy(col(\"salary\").desc())\n",
    "second_salary=employees01.withColumn(\"drnk\",dense_rank().over(department_window)).filter(col(\"drnk\")==2).drop(col('drnk'))\n",
    "second_salary.show()\n"
   ]
  },
  {
   "cell_type": "code",
   "execution_count": 6,
   "id": "c66207fa",
   "metadata": {},
   "outputs": [
    {
     "name": "stdout",
     "output_type": "stream",
     "text": [
      "+-----------+-----------+-----------+--------+\n",
      "|employee_id|       name| department|  salary|\n",
      "+-----------+-----------+-----------+--------+\n",
      "|          1|   John Doe|Engineering|63000.00|\n",
      "|          4|Emily Davis|  Marketing|58000.00|\n",
      "|          7|   Alex Lee|      Sales|58000.00|\n",
      "|          8|Sarah Adams|      Sales|58000.00|\n",
      "+-----------+-----------+-----------+--------+\n",
      "\n"
     ]
    }
   ],
   "source": [
    "# Department-wise top 2 highest salaries\n",
    "dept_rank=Window.partitionBy(col(\"department\")).orderBy(col(\"salary\").desc())\n",
    "second_dept_salary=employees01.withColumn(\"drnk\",dense_rank().over(dept_rank)).filter(col(\"drnk\")==2).drop(col(\"drnk\"))\n",
    "second_dept_salary.show()"
   ]
  },
  {
   "cell_type": "code",
   "execution_count": 11,
   "id": "2d2b0a1d",
   "metadata": {},
   "outputs": [
    {
     "name": "stdout",
     "output_type": "stream",
     "text": [
      "+-----------+------------+\n",
      "| department|  avg_salary|\n",
      "+-----------+------------+\n",
      "|      Sales|59000.000000|\n",
      "|Engineering|60666.666667|\n",
      "|         it|63000.000000|\n",
      "|  Marketing|57666.666667|\n",
      "+-----------+------------+\n",
      "\n",
      "+-----------+-----------+---------------+--------+------------+\n",
      "| department|employee_id|           name|  salary|  avg_salary|\n",
      "+-----------+-----------+---------------+--------+------------+\n",
      "|      Sales|          9|     Ryan Clark|61000.00|59000.000000|\n",
      "|Engineering|          1|       John Doe|63000.00|60666.666667|\n",
      "|Engineering|          3|Michael Johnson|64000.00|60666.666667|\n",
      "|  Marketing|          4|    Emily Davis|58000.00|57666.666667|\n",
      "|  Marketing|          6|    Emma Wilson|59000.00|57666.666667|\n",
      "+-----------+-----------+---------------+--------+------------+\n",
      "\n"
     ]
    }
   ],
   "source": [
    "# more than avg salary\n",
    "from pyspark.sql.functions import avg\n",
    "dept_avg_salary=employees01.groupBy(col(\"department\")).agg(avg(col(\"salary\")).alias(\"avg_salary\"))\n",
    "dept_avg_salary.show()\n",
    "\n",
    "employees01.join(dept_avg_salary,on=\"department\",how=\"inner\").filter(col(\"salary\")>col(\"avg_salary\")).show()\n"
   ]
  },
  {
   "cell_type": "markdown",
   "id": "653197df",
   "metadata": {},
   "source": [
    "### second question"
   ]
  },
  {
   "cell_type": "code",
   "execution_count": 12,
   "id": "fd2e88bc",
   "metadata": {},
   "outputs": [],
   "source": [
    "orders02 = spark.read.format(\"jdbc\").option(\"url\", jdbc_url).option(\"driver\", \"com.mysql.cj.jdbc.Driver\") \\\n",
    "    .option(\"dbtable\", 'orders02').option(\"user\", mysql_username).option(\"password\", mysql_password).load()\n",
    "\n",
    "returns02 = spark.read.format(\"jdbc\").option(\"url\", jdbc_url).option(\"driver\", \"com.mysql.cj.jdbc.Driver\") \\\n",
    "    .option(\"dbtable\", 'returns02').option(\"user\", mysql_username).option(\"password\", mysql_password).load()"
   ]
  },
  {
   "cell_type": "code",
   "execution_count": null,
   "id": "e44d7133",
   "metadata": {},
   "outputs": [],
   "source": [
    "# 1️⃣ Total number of returned orders per month\n",
    "\n"
   ]
  }
 ],
 "metadata": {
  "kernelspec": {
   "display_name": "Python 3",
   "language": "python",
   "name": "python3"
  },
  "language_info": {
   "codemirror_mode": {
    "name": "ipython",
    "version": 3
   },
   "file_extension": ".py",
   "mimetype": "text/x-python",
   "name": "python",
   "nbconvert_exporter": "python",
   "pygments_lexer": "ipython3",
   "version": "3.10.0"
  }
 },
 "nbformat": 4,
 "nbformat_minor": 5
}
